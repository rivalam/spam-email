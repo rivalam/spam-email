{
 "cells": [
  {
   "cell_type": "markdown",
   "metadata": {},
   "source": [
    "## Goal"
   ]
  },
  {
   "cell_type": "markdown",
   "metadata": {},
   "source": [
    "In this project, I am interested in building a logistic regression model using all of its predictors and interpreting some of the coefficients. \n",
    "This notebook does not cover data preparation, class imbalance, optimal threshhold, or selecting relevant features for the model, but you can find it in the next notebook. A formal data exploration of the data set will also be explored. "
   ]
  },
  {
   "cell_type": "markdown",
   "metadata": {},
   "source": [
    "### Dataset"
   ]
  },
  {
   "cell_type": "markdown",
   "metadata": {},
   "source": [
    "The data set I selected is the [Spambase Data Set](https://archive.ics.uci.edu/ml/datasets/spambase)\n",
    "The collection of spam e-mails came from UCI postmaster and individuals who had filed spam. Non-spam e-mails came from filed work and personal e-mails.There is no missing data. "
   ]
  },
  {
   "cell_type": "markdown",
   "metadata": {},
   "source": [
    "### Description of Variables \n",
    "The data set contains 4601 observations of  57 attributes.\n",
    "There are 48 columns that deal with word frequency (%), 6 columns that deal with character frequency (%), and 3 columns related to run_length. The word frequency columns are in percentages. The character frequency columns are in percentages.The run length columns are in continous integer.\n",
    "\n",
    "The last column 'class' denotes whether the e-mail was considered spam (1) or not (0)."
   ]
  },
  {
   "cell_type": "markdown",
   "metadata": {},
   "source": [
    "### Split the Data into Train and Test Data "
   ]
  },
  {
   "cell_type": "code",
   "execution_count": 28,
   "metadata": {},
   "outputs": [
    {
     "data": {
      "text/html": [
       "58"
      ],
      "text/latex": [
       "58"
      ],
      "text/markdown": [
       "58"
      ],
      "text/plain": [
       "[1] 58"
      ]
     },
     "metadata": {},
     "output_type": "display_data"
    },
    {
     "data": {
      "text/html": [
       "TRUE"
      ],
      "text/latex": [
       "TRUE"
      ],
      "text/markdown": [
       "TRUE"
      ],
      "text/plain": [
       "[1] TRUE"
      ]
     },
     "metadata": {},
     "output_type": "display_data"
    },
    {
     "data": {
      "text/html": [
       "3681"
      ],
      "text/latex": [
       "3681"
      ],
      "text/markdown": [
       "3681"
      ],
      "text/plain": [
       "[1] 3681"
      ]
     },
     "metadata": {},
     "output_type": "display_data"
    },
    {
     "data": {
      "text/html": [
       "920"
      ],
      "text/latex": [
       "920"
      ],
      "text/markdown": [
       "920"
      ],
      "text/plain": [
       "[1] 920"
      ]
     },
     "metadata": {},
     "output_type": "display_data"
    }
   ],
   "source": [
    "library(dplyr)\n",
    "library(caret)\n",
    "library(caTools)\n",
    "spam_dataset<-read.csv(\"spambase_csv (1).csv\")\n",
    "\n",
    "ncol(spam_dataset)\n",
    "#Munge the data\n",
    "spam_dataset$class<-factor(spam_dataset$class) #convert class into a factor\n",
    "is.factor(spam_dataset$class)\n",
    "\n",
    "set.seed(364) \n",
    "n <- nrow(spam_dataset) \n",
    "\n",
    "\n",
    "test_idx <- sample.int(n, size = round(0.2 * n)) \n",
    "\n",
    "\n",
    "train <- spam_dataset[-test_idx, ] \n",
    "nrow(train) #number of rows for training set \n",
    "\n",
    "test <- spam_dataset[test_idx, ]\n",
    "nrow(test)   #number of rows for testing set\n",
    "\n",
    "\n"
   ]
  },
  {
   "cell_type": "markdown",
   "metadata": {},
   "source": [
    "### Train the Model using the Training Data "
   ]
  },
  {
   "cell_type": "code",
   "execution_count": 103,
   "metadata": {},
   "outputs": [
    {
     "name": "stderr",
     "output_type": "stream",
     "text": [
      "Warning message:\n",
      "“glm.fit: fitted probabilities numerically 0 or 1 occurred”"
     ]
    },
    {
     "data": {
      "text/plain": [
       "\n",
       "Call:\n",
       "glm(formula = class ~ ., family = \"binomial\", data = train)\n",
       "\n",
       "Deviance Residuals: \n",
       "    Min       1Q   Median       3Q      Max  \n",
       "-4.6544  -0.2020   0.0000   0.1207   4.2060  \n",
       "\n",
       "Coefficients:\n",
       "                             Estimate Std. Error z value Pr(>|z|)    \n",
       "(Intercept)                -1.669e+00  1.686e-01  -9.899  < 2e-16 ***\n",
       "word_freq_make             -3.767e-01  2.416e-01  -1.559 0.119023    \n",
       "word_freq_address          -1.956e-01  1.012e-01  -1.932 0.053313 .  \n",
       "word_freq_all               8.400e-02  1.259e-01   0.667 0.504611    \n",
       "word_freq_3d                1.963e+00  1.462e+00   1.342 0.179512    \n",
       "word_freq_our               6.383e-01  1.201e-01   5.316 1.06e-07 ***\n",
       "word_freq_over              1.174e+00  2.824e-01   4.157 3.23e-05 ***\n",
       "word_freq_remove            2.706e+00  4.100e-01   6.601 4.08e-11 ***\n",
       "word_freq_internet          7.382e-01  2.173e-01   3.397 0.000682 ***\n",
       "word_freq_order             4.238e-01  2.933e-01   1.445 0.148460    \n",
       "word_freq_mail              4.479e-02  7.974e-02   0.562 0.574358    \n",
       "word_freq_receive          -4.083e-01  3.177e-01  -1.285 0.198715    \n",
       "word_freq_will             -9.652e-02  8.055e-02  -1.198 0.230819    \n",
       "word_freq_people           -2.550e-01  2.650e-01  -0.962 0.335799    \n",
       "word_freq_report            3.439e-01  1.987e-01   1.731 0.083463 .  \n",
       "word_freq_addresses         8.988e-01  7.361e-01   1.221 0.222115    \n",
       "word_freq_free              9.050e-01  1.498e-01   6.043 1.52e-09 ***\n",
       "word_freq_business          9.070e-01  2.513e-01   3.609 0.000307 ***\n",
       "word_freq_email             1.016e-01  1.223e-01   0.831 0.405940    \n",
       "word_freq_you               6.883e-02  3.931e-02   1.751 0.079920 .  \n",
       "word_freq_credit            1.383e+00  6.418e-01   2.154 0.031238 *  \n",
       "word_freq_your              2.311e-01  5.945e-02   3.887 0.000102 ***\n",
       "word_freq_font              1.654e-01  1.896e-01   0.873 0.382932    \n",
       "word_freq_000               1.820e+00  4.459e-01   4.082 4.46e-05 ***\n",
       "word_freq_money             3.661e-01  1.525e-01   2.401 0.016370 *  \n",
       "word_freq_hp               -1.799e+00  3.217e-01  -5.591 2.26e-08 ***\n",
       "word_freq_hpl              -8.577e-01  4.417e-01  -1.942 0.052187 .  \n",
       "word_freq_george           -7.016e+00  1.954e+00  -3.591 0.000329 ***\n",
       "word_freq_650               3.989e-01  2.294e-01   1.739 0.082107 .  \n",
       "word_freq_lab              -1.837e+00  1.328e+00  -1.383 0.166735    \n",
       "word_freq_labs             -1.287e-01  3.442e-01  -0.374 0.708499    \n",
       "word_freq_telnet           -7.014e+00  2.975e+00  -2.358 0.018391 *  \n",
       "word_freq_857               1.348e+00  2.735e+00   0.493 0.622083    \n",
       "word_freq_data             -7.585e-01  3.393e-01  -2.236 0.025370 *  \n",
       "word_freq_415               5.836e-01  1.531e+00   0.381 0.703070    \n",
       "word_freq_85               -2.724e+00  8.843e-01  -3.081 0.002064 ** \n",
       "word_freq_technology        5.150e-01  3.643e-01   1.414 0.157461    \n",
       "word_freq_1999             -1.689e-02  1.832e-01  -0.092 0.926543    \n",
       "word_freq_parts            -5.463e-01  4.459e-01  -1.225 0.220526    \n",
       "word_freq_pm               -7.150e-01  4.016e-01  -1.780 0.075009 .  \n",
       "word_freq_direct           -3.061e-01  3.881e-01  -0.789 0.430175    \n",
       "word_freq_cs               -3.990e+01  2.548e+01  -1.566 0.117379    \n",
       "word_freq_meeting          -2.540e+00  9.594e-01  -2.648 0.008104 ** \n",
       "word_freq_original         -9.264e-01  7.627e-01  -1.215 0.224538    \n",
       "word_freq_project          -1.696e+00  5.801e-01  -2.923 0.003471 ** \n",
       "word_freq_re               -8.134e-01  1.719e-01  -4.732 2.23e-06 ***\n",
       "word_freq_edu              -1.339e+00  2.660e-01  -5.034 4.80e-07 ***\n",
       "word_freq_table            -2.085e+00  1.644e+00  -1.268 0.204720    \n",
       "word_freq_conference       -3.656e+00  1.601e+00  -2.283 0.022455 *  \n",
       "char_freq_.3B              -1.205e+00  4.812e-01  -2.504 0.012284 *  \n",
       "char_freq_.28              -1.186e-01  2.537e-01  -0.467 0.640182    \n",
       "char_freq_.5B              -1.207e+00  1.230e+00  -0.982 0.326346    \n",
       "char_freq_.21               2.766e-01  7.370e-02   3.752 0.000175 ***\n",
       "char_freq_.24               5.342e+00  7.873e-01   6.785 1.16e-11 ***\n",
       "char_freq_.23               1.932e+00  1.185e+00   1.630 0.103036    \n",
       "capital_run_length_average  7.690e-02  4.637e-02   1.659 0.097206 .  \n",
       "capital_run_length_longest  1.076e-02  3.236e-03   3.326 0.000881 ***\n",
       "capital_run_length_total    7.100e-04  2.455e-04   2.892 0.003826 ** \n",
       "---\n",
       "Signif. codes:  0 ‘***’ 0.001 ‘**’ 0.01 ‘*’ 0.05 ‘.’ 0.1 ‘ ’ 1\n",
       "\n",
       "(Dispersion parameter for binomial family taken to be 1)\n",
       "\n",
       "    Null deviance: 4956.0  on 3680  degrees of freedom\n",
       "Residual deviance: 1490.8  on 3623  degrees of freedom\n",
       "AIC: 1606.8\n",
       "\n",
       "Number of Fisher Scoring iterations: 13\n"
      ]
     },
     "metadata": {},
     "output_type": "display_data"
    },
    {
     "data": {
      "text/html": [
       "<table>\n",
       "<thead><tr><th scope=col>B_i</th><th scope=col>Estimate</th><th scope=col>Std. Error</th><th scope=col>z value</th><th scope=col>P.Value</th></tr></thead>\n",
       "<tbody>\n",
       "\t<tr><td>(Intercept)               </td><td>-1.6692946596             </td><td>0.1686343624              </td><td>-9.898900                 </td><td>4.208794e-23              </td></tr>\n",
       "\t<tr><td>word_freq_our             </td><td> 0.6382971670             </td><td>0.1200738085              </td><td> 5.315873                 </td><td>1.061469e-07              </td></tr>\n",
       "\t<tr><td>word_freq_over            </td><td> 1.1739575458             </td><td>0.2824372235              </td><td> 4.156526                 </td><td>3.231240e-05              </td></tr>\n",
       "\t<tr><td>word_freq_remove          </td><td> 2.7064578667             </td><td>0.4099930783              </td><td> 6.601228                 </td><td>4.077653e-11              </td></tr>\n",
       "\t<tr><td>word_freq_internet        </td><td> 0.7381906779             </td><td>0.2173229655              </td><td> 3.396745                 </td><td>6.819250e-04              </td></tr>\n",
       "\t<tr><td>word_freq_free            </td><td> 0.9049646819             </td><td>0.1497646967              </td><td> 6.042577                 </td><td>1.516721e-09              </td></tr>\n",
       "\t<tr><td>word_freq_business        </td><td> 0.9070288770             </td><td>0.2512932052              </td><td> 3.609444                 </td><td>3.068534e-04              </td></tr>\n",
       "\t<tr><td>word_freq_credit          </td><td> 1.3825637817             </td><td>0.6418495019              </td><td> 2.154031                 </td><td>3.123773e-02              </td></tr>\n",
       "\t<tr><td>word_freq_your            </td><td> 0.2310842778             </td><td>0.0594545780              </td><td> 3.886736                 </td><td>1.016009e-04              </td></tr>\n",
       "\t<tr><td>word_freq_000             </td><td> 1.8201773007             </td><td>0.4458584652              </td><td> 4.082411                 </td><td>4.457097e-05              </td></tr>\n",
       "\t<tr><td>word_freq_money           </td><td> 0.3660787366             </td><td>0.1524967178              </td><td> 2.400568                 </td><td>1.636965e-02              </td></tr>\n",
       "\t<tr><td>word_freq_hp              </td><td>-1.7988782376             </td><td>0.3217410788              </td><td>-5.591074                 </td><td>2.256691e-08              </td></tr>\n",
       "\t<tr><td>word_freq_george          </td><td>-7.0161636712             </td><td>1.9535611067              </td><td>-3.591474                 </td><td>3.288131e-04              </td></tr>\n",
       "\t<tr><td>word_freq_telnet          </td><td>-7.0139849743             </td><td>2.9749889454              </td><td>-2.357651                 </td><td>1.839099e-02              </td></tr>\n",
       "\t<tr><td>word_freq_data            </td><td>-0.7585269563             </td><td>0.3392759529              </td><td>-2.235723                 </td><td>2.536994e-02              </td></tr>\n",
       "\t<tr><td>word_freq_85              </td><td>-2.7244957547             </td><td>0.8843387039              </td><td>-3.080828                 </td><td>2.064256e-03              </td></tr>\n",
       "\t<tr><td>word_freq_meeting         </td><td>-2.5401505235             </td><td>0.9593796120              </td><td>-2.647701                 </td><td>8.104113e-03              </td></tr>\n",
       "\t<tr><td>word_freq_project         </td><td>-1.6955674606             </td><td>0.5801444702              </td><td>-2.922664                 </td><td>3.470506e-03              </td></tr>\n",
       "\t<tr><td>word_freq_re              </td><td>-0.8134391379             </td><td>0.1719162486              </td><td>-4.731601                 </td><td>2.227557e-06              </td></tr>\n",
       "\t<tr><td>word_freq_edu             </td><td>-1.3388801940             </td><td>0.2659643145              </td><td>-5.034060                 </td><td>4.802004e-07              </td></tr>\n",
       "\t<tr><td>word_freq_conference      </td><td>-3.6555597993             </td><td>1.6014968497              </td><td>-2.282589                 </td><td>2.245456e-02              </td></tr>\n",
       "\t<tr><td>char_freq_.3B             </td><td>-1.2047739960             </td><td>0.4811629736              </td><td>-2.503879                 </td><td>1.228399e-02              </td></tr>\n",
       "\t<tr><td>char_freq_.21             </td><td> 0.2765510558             </td><td>0.0737026304              </td><td> 3.752255                 </td><td>1.752511e-04              </td></tr>\n",
       "\t<tr><td>char_freq_.24             </td><td> 5.3416475123             </td><td>0.7873187293              </td><td> 6.784606                 </td><td>1.164036e-11              </td></tr>\n",
       "\t<tr><td>capital_run_length_longest</td><td> 0.0107617352             </td><td>0.0032357856              </td><td> 3.325849                 </td><td>8.814957e-04              </td></tr>\n",
       "\t<tr><td>capital_run_length_total  </td><td> 0.0007099669             </td><td>0.0002454768              </td><td> 2.892195                 </td><td>3.825603e-03              </td></tr>\n",
       "</tbody>\n",
       "</table>\n"
      ],
      "text/latex": [
       "\\begin{tabular}{r|lllll}\n",
       " B\\_i & Estimate & Std. Error & z value & P.Value\\\\\n",
       "\\hline\n",
       "\t (Intercept)                & -1.6692946596              & 0.1686343624               & -9.898900                  & 4.208794e-23              \\\\\n",
       "\t word\\_freq\\_our              &  0.6382971670                  & 0.1200738085                   &  5.315873                      & 1.061469e-07                  \\\\\n",
       "\t word\\_freq\\_over             &  1.1739575458                  & 0.2824372235                   &  4.156526                      & 3.231240e-05                  \\\\\n",
       "\t word\\_freq\\_remove           &  2.7064578667                  & 0.4099930783                   &  6.601228                      & 4.077653e-11                  \\\\\n",
       "\t word\\_freq\\_internet         &  0.7381906779                  & 0.2173229655                   &  3.396745                      & 6.819250e-04                  \\\\\n",
       "\t word\\_freq\\_free             &  0.9049646819                  & 0.1497646967                   &  6.042577                      & 1.516721e-09                  \\\\\n",
       "\t word\\_freq\\_business         &  0.9070288770                  & 0.2512932052                   &  3.609444                      & 3.068534e-04                  \\\\\n",
       "\t word\\_freq\\_credit           &  1.3825637817                  & 0.6418495019                   &  2.154031                      & 3.123773e-02                  \\\\\n",
       "\t word\\_freq\\_your             &  0.2310842778                  & 0.0594545780                   &  3.886736                      & 1.016009e-04                  \\\\\n",
       "\t word\\_freq\\_000              &  1.8201773007                  & 0.4458584652                   &  4.082411                      & 4.457097e-05                  \\\\\n",
       "\t word\\_freq\\_money            &  0.3660787366                  & 0.1524967178                   &  2.400568                      & 1.636965e-02                  \\\\\n",
       "\t word\\_freq\\_hp               & -1.7988782376                  & 0.3217410788                   & -5.591074                      & 2.256691e-08                  \\\\\n",
       "\t word\\_freq\\_george           & -7.0161636712                  & 1.9535611067                   & -3.591474                      & 3.288131e-04                  \\\\\n",
       "\t word\\_freq\\_telnet           & -7.0139849743                  & 2.9749889454                   & -2.357651                      & 1.839099e-02                  \\\\\n",
       "\t word\\_freq\\_data             & -0.7585269563                  & 0.3392759529                   & -2.235723                      & 2.536994e-02                  \\\\\n",
       "\t word\\_freq\\_85               & -2.7244957547                  & 0.8843387039                   & -3.080828                      & 2.064256e-03                  \\\\\n",
       "\t word\\_freq\\_meeting          & -2.5401505235                  & 0.9593796120                   & -2.647701                      & 8.104113e-03                  \\\\\n",
       "\t word\\_freq\\_project          & -1.6955674606                  & 0.5801444702                   & -2.922664                      & 3.470506e-03                  \\\\\n",
       "\t word\\_freq\\_re               & -0.8134391379                  & 0.1719162486                   & -4.731601                      & 2.227557e-06                  \\\\\n",
       "\t word\\_freq\\_edu              & -1.3388801940                  & 0.2659643145                   & -5.034060                      & 4.802004e-07                  \\\\\n",
       "\t word\\_freq\\_conference       & -3.6555597993                  & 1.6014968497                   & -2.282589                      & 2.245456e-02                  \\\\\n",
       "\t char\\_freq\\_.3B              & -1.2047739960                  & 0.4811629736                   & -2.503879                      & 1.228399e-02                  \\\\\n",
       "\t char\\_freq\\_.21              &  0.2765510558                  & 0.0737026304                   &  3.752255                      & 1.752511e-04                  \\\\\n",
       "\t char\\_freq\\_.24              &  5.3416475123                  & 0.7873187293                   &  6.784606                      & 1.164036e-11                  \\\\\n",
       "\t capital\\_run\\_length\\_longest &  0.0107617352                    & 0.0032357856                     &  3.325849                        & 8.814957e-04                    \\\\\n",
       "\t capital\\_run\\_length\\_total   &  0.0007099669                    & 0.0002454768                     &  2.892195                        & 3.825603e-03                    \\\\\n",
       "\\end{tabular}\n"
      ],
      "text/markdown": [
       "\n",
       "B_i | Estimate | Std. Error | z value | P.Value | \n",
       "|---|---|---|---|---|---|---|---|---|---|---|---|---|---|---|---|---|---|---|---|---|---|---|---|---|---|\n",
       "| (Intercept)                | -1.6692946596              | 0.1686343624               | -9.898900                  | 4.208794e-23               | \n",
       "| word_freq_our              |  0.6382971670              | 0.1200738085               |  5.315873                  | 1.061469e-07               | \n",
       "| word_freq_over             |  1.1739575458              | 0.2824372235               |  4.156526                  | 3.231240e-05               | \n",
       "| word_freq_remove           |  2.7064578667              | 0.4099930783               |  6.601228                  | 4.077653e-11               | \n",
       "| word_freq_internet         |  0.7381906779              | 0.2173229655               |  3.396745                  | 6.819250e-04               | \n",
       "| word_freq_free             |  0.9049646819              | 0.1497646967               |  6.042577                  | 1.516721e-09               | \n",
       "| word_freq_business         |  0.9070288770              | 0.2512932052               |  3.609444                  | 3.068534e-04               | \n",
       "| word_freq_credit           |  1.3825637817              | 0.6418495019               |  2.154031                  | 3.123773e-02               | \n",
       "| word_freq_your             |  0.2310842778              | 0.0594545780               |  3.886736                  | 1.016009e-04               | \n",
       "| word_freq_000              |  1.8201773007              | 0.4458584652               |  4.082411                  | 4.457097e-05               | \n",
       "| word_freq_money            |  0.3660787366              | 0.1524967178               |  2.400568                  | 1.636965e-02               | \n",
       "| word_freq_hp               | -1.7988782376              | 0.3217410788               | -5.591074                  | 2.256691e-08               | \n",
       "| word_freq_george           | -7.0161636712              | 1.9535611067               | -3.591474                  | 3.288131e-04               | \n",
       "| word_freq_telnet           | -7.0139849743              | 2.9749889454               | -2.357651                  | 1.839099e-02               | \n",
       "| word_freq_data             | -0.7585269563              | 0.3392759529               | -2.235723                  | 2.536994e-02               | \n",
       "| word_freq_85               | -2.7244957547              | 0.8843387039               | -3.080828                  | 2.064256e-03               | \n",
       "| word_freq_meeting          | -2.5401505235              | 0.9593796120               | -2.647701                  | 8.104113e-03               | \n",
       "| word_freq_project          | -1.6955674606              | 0.5801444702               | -2.922664                  | 3.470506e-03               | \n",
       "| word_freq_re               | -0.8134391379              | 0.1719162486               | -4.731601                  | 2.227557e-06               | \n",
       "| word_freq_edu              | -1.3388801940              | 0.2659643145               | -5.034060                  | 4.802004e-07               | \n",
       "| word_freq_conference       | -3.6555597993              | 1.6014968497               | -2.282589                  | 2.245456e-02               | \n",
       "| char_freq_.3B              | -1.2047739960              | 0.4811629736               | -2.503879                  | 1.228399e-02               | \n",
       "| char_freq_.21              |  0.2765510558              | 0.0737026304               |  3.752255                  | 1.752511e-04               | \n",
       "| char_freq_.24              |  5.3416475123              | 0.7873187293               |  6.784606                  | 1.164036e-11               | \n",
       "| capital_run_length_longest |  0.0107617352              | 0.0032357856               |  3.325849                  | 8.814957e-04               | \n",
       "| capital_run_length_total   |  0.0007099669              | 0.0002454768               |  2.892195                  | 3.825603e-03               | \n",
       "\n",
       "\n"
      ],
      "text/plain": [
       "   B_i                        Estimate      Std. Error   z value   P.Value     \n",
       "1  (Intercept)                -1.6692946596 0.1686343624 -9.898900 4.208794e-23\n",
       "2  word_freq_our               0.6382971670 0.1200738085  5.315873 1.061469e-07\n",
       "3  word_freq_over              1.1739575458 0.2824372235  4.156526 3.231240e-05\n",
       "4  word_freq_remove            2.7064578667 0.4099930783  6.601228 4.077653e-11\n",
       "5  word_freq_internet          0.7381906779 0.2173229655  3.396745 6.819250e-04\n",
       "6  word_freq_free              0.9049646819 0.1497646967  6.042577 1.516721e-09\n",
       "7  word_freq_business          0.9070288770 0.2512932052  3.609444 3.068534e-04\n",
       "8  word_freq_credit            1.3825637817 0.6418495019  2.154031 3.123773e-02\n",
       "9  word_freq_your              0.2310842778 0.0594545780  3.886736 1.016009e-04\n",
       "10 word_freq_000               1.8201773007 0.4458584652  4.082411 4.457097e-05\n",
       "11 word_freq_money             0.3660787366 0.1524967178  2.400568 1.636965e-02\n",
       "12 word_freq_hp               -1.7988782376 0.3217410788 -5.591074 2.256691e-08\n",
       "13 word_freq_george           -7.0161636712 1.9535611067 -3.591474 3.288131e-04\n",
       "14 word_freq_telnet           -7.0139849743 2.9749889454 -2.357651 1.839099e-02\n",
       "15 word_freq_data             -0.7585269563 0.3392759529 -2.235723 2.536994e-02\n",
       "16 word_freq_85               -2.7244957547 0.8843387039 -3.080828 2.064256e-03\n",
       "17 word_freq_meeting          -2.5401505235 0.9593796120 -2.647701 8.104113e-03\n",
       "18 word_freq_project          -1.6955674606 0.5801444702 -2.922664 3.470506e-03\n",
       "19 word_freq_re               -0.8134391379 0.1719162486 -4.731601 2.227557e-06\n",
       "20 word_freq_edu              -1.3388801940 0.2659643145 -5.034060 4.802004e-07\n",
       "21 word_freq_conference       -3.6555597993 1.6014968497 -2.282589 2.245456e-02\n",
       "22 char_freq_.3B              -1.2047739960 0.4811629736 -2.503879 1.228399e-02\n",
       "23 char_freq_.21               0.2765510558 0.0737026304  3.752255 1.752511e-04\n",
       "24 char_freq_.24               5.3416475123 0.7873187293  6.784606 1.164036e-11\n",
       "25 capital_run_length_longest  0.0107617352 0.0032357856  3.325849 8.814957e-04\n",
       "26 capital_run_length_total    0.0007099669 0.0002454768  2.892195 3.825603e-03"
      ]
     },
     "metadata": {},
     "output_type": "display_data"
    }
   ],
   "source": [
    "mymodel<-glm(class~., data=train, family='binomial') #binomial is a binary classifier.\n",
    "summary(mymodel)\n",
    "Coeff.df<-summary(mymodel)$coeff\n",
    "\n",
    "Coeff.df<-as.data.frame(Coeff.df)\n",
    "colnames(Coeff.df)[colnames(Coeff.df)==\"Pr(>|z|)\"] <- \"P.Value\"\n",
    "Coeff.df$B_i <- rownames(Coeff.df)\n",
    "rownames(Coeff.df) <- NULL\n",
    "Coeff.df<-Coeff.df[,c(5,1,2,3,4)]\n",
    "Sig_Coeff.df<-Coeff.df%>% filter(P.Value<0.05)\n",
    "Sig_Coeff.df\n"
   ]
  },
  {
   "cell_type": "markdown",
   "metadata": {},
   "source": [
    "### Brief Interpretation of Coefficients (Significant, in this case)"
   ]
  },
  {
   "cell_type": "markdown",
   "metadata": {},
   "source": [
    "There are 25 variables of the 57 predictors that are statistically associated to class - the outcome. \n",
    "The coefficient estimate of the word frequency of our is b = 0.6382971670, which is positive. This means that an increase in the percentage of the word our is associated with increase in the probability of the email being spam.The odds of the email being spam go up by a factor of $e^{0.6382971670}$. This refers to odds not probability. \n",
    "\n",
    "The coefficient estimate of the word frequency of project is b = -1.6955674606, which is negative. This means that an increase in the percentage of the word 'project' is associated with a decrease in the probability of the email being spam.The odds of the email being spam go down by a factor of $e^{-1.6955674606}$. \n",
    "\n",
    "Both of their p values are significant in determining the class type of the email."
   ]
  },
  {
   "cell_type": "markdown",
   "metadata": {},
   "source": [
    "### Run the Training Data through the Model (All Predictors)\n"
   ]
  },
  {
   "cell_type": "code",
   "execution_count": 105,
   "metadata": {},
   "outputs": [
    {
     "data": {
      "text/plain": [
       "         Actual\n",
       "Predicted    0    1\n",
       "        0 2110  166\n",
       "        1   97 1308"
      ]
     },
     "metadata": {},
     "output_type": "display_data"
    },
    {
     "data": {
      "text/html": [
       "0.928552023906547"
      ],
      "text/latex": [
       "0.928552023906547"
      ],
      "text/markdown": [
       "0.928552023906547"
      ],
      "text/plain": [
       "[1] 0.928552"
      ]
     },
     "metadata": {},
     "output_type": "display_data"
    },
    {
     "data": {
      "text/html": [
       "0.0714479760934528"
      ],
      "text/latex": [
       "0.0714479760934528"
      ],
      "text/markdown": [
       "0.0714479760934528"
      ],
      "text/plain": [
       "[1] 0.07144798"
      ]
     },
     "metadata": {},
     "output_type": "display_data"
    }
   ],
   "source": [
    "# If the probability of Y is > 0.5, then it can be classified as Spam.\n",
    "#The common practice is to take the probability cutoff as 0.5.\n",
    "\n",
    "# Recode factors\n",
    "trainpred <- predict(mymodel, newdata = train, type = \"response\") \n",
    "y_pred_num_train <- ifelse(trainpred > 0.5, 1, 0)  #Converting probabilities to 1 and 0 values. \n",
    "y_pred_train <- factor(y_pred_num_train, levels=c(0, 1))\n",
    "\n",
    "\n",
    "y_act_train <- train$class\n",
    "\n",
    "tab1<-table(Predicted=y_pred_num_train,Actual=train$class) #confusion matrix. How well is this model performing? \n",
    "tab1\n",
    "\n",
    "\n",
    "#Accuracy\n",
    "mean(y_pred_train == y_act_train)\n",
    "\n",
    "#Misclassification\n",
    "1-sum(diag(tab1)/sum(tab1))"
   ]
  },
  {
   "cell_type": "markdown",
   "metadata": {},
   "source": [
    "For the training dataset, the classification prediction accuracy of the model is about 93%, which is good. The misclassification error rate is 7%."
   ]
  },
  {
   "cell_type": "markdown",
   "metadata": {},
   "source": [
    "### Run the Test Data through the Model (All Predictors)"
   ]
  },
  {
   "cell_type": "code",
   "execution_count": 104,
   "metadata": {},
   "outputs": [],
   "source": [
    "# If the probability of Y is > 0.5, then it can be classified as Spam.\n",
    "#The common practice is to take the probability cutoff as 0.5.\n",
    "\n",
    "# Recode factors\n",
    "pred <- predict(mymodel, newdata = test, type = \"response\") \n",
    "y_pred_num <- ifelse(pred > 0.5, 1, 0)  #Converting probabilities to 1 and 0 values. \n",
    "y_pred <- factor(y_pred_num, levels=c(0, 1))\n",
    "\n",
    "\n",
    "y_act <- test$class\n"
   ]
  },
  {
   "cell_type": "markdown",
   "metadata": {},
   "source": [
    "### Validate the Model -Accuracy, Precision, etc. "
   ]
  },
  {
   "cell_type": "code",
   "execution_count": 29,
   "metadata": {},
   "outputs": [
    {
     "data": {
      "text/plain": [
       "         Actual\n",
       "Predicted   0   1\n",
       "        0 558  32\n",
       "        1  23 307"
      ]
     },
     "metadata": {},
     "output_type": "display_data"
    },
    {
     "data": {
      "text/html": [
       "0.940217391304348"
      ],
      "text/latex": [
       "0.940217391304348"
      ],
      "text/markdown": [
       "0.940217391304348"
      ],
      "text/plain": [
       "[1] 0.9402174"
      ]
     },
     "metadata": {},
     "output_type": "display_data"
    },
    {
     "data": {
      "text/html": [
       "0.0597826086956521"
      ],
      "text/latex": [
       "0.0597826086956521"
      ],
      "text/markdown": [
       "0.0597826086956521"
      ],
      "text/plain": [
       "[1] 0.05978261"
      ]
     },
     "metadata": {},
     "output_type": "display_data"
    }
   ],
   "source": [
    "tab2<-table(Predicted=y_pred_num,Actual=test$class) #confusion matrix. How well is this model performing? \n",
    "tab2\n",
    "\n",
    "\n",
    "#Accuracy\n",
    "mean(y_pred == y_act)\n",
    "\n",
    "#Misclassification\n",
    "1-sum(diag(tab2)/sum(tab2))"
   ]
  },
  {
   "cell_type": "markdown",
   "metadata": {},
   "source": [
    "For the test dataset, the classification prediction accuracy of the model is about 94%, which is good. The misclassification error rate is 6%."
   ]
  },
  {
   "cell_type": "markdown",
   "metadata": {},
   "source": [
    "Sources Used:\n",
    "\n",
    "https://www.machinelearningplus.com/machine-learning/logistic-regression-tutorial-examples-r/\n",
    "https://nbviewer.jupyter.org/gist/justmarkham/6d5c061ca5aee67c4316471f8c2ae976\n",
    "http://www.sthda.com/english/articles/36-classification-methods-essentials/151-logistic-regression-essentials-in-r/\n"
   ]
  }
 ],
 "metadata": {
  "kernelspec": {
   "display_name": "R",
   "language": "R",
   "name": "ir"
  },
  "language_info": {
   "codemirror_mode": "r",
   "file_extension": ".r",
   "mimetype": "text/x-r-source",
   "name": "R",
   "pygments_lexer": "r",
   "version": "3.4.3"
  }
 },
 "nbformat": 4,
 "nbformat_minor": 2
}
